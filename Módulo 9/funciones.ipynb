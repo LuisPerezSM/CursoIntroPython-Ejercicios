{
 "cells": [
  {
   "cell_type": "markdown",
   "metadata": {},
   "source": [
    "### Ejercicio 1"
   ]
  },
  {
   "cell_type": "code",
   "execution_count": 30,
   "metadata": {},
   "outputs": [
    {
     "name": "stdout",
     "output_type": "stream",
     "text": [
      "-||-  REPORTE DE COMBUSTIBLE  -||-\n",
      "---------------------------------------------\n",
      "PROMEDIO: 52.0% de la CAPACIDAD TOTAL\n",
      "---------------------------------------------\n",
      "Tanque PRINCIPAL: Tiene el 32% de su capacidad\n",
      "Tanque SECUNDARIO: Tiene el 46% de su capacidad\n",
      "Tanque EMERGENCIA: Tiene el 78% de su capacidad\n",
      "    \n",
      "\n",
      "\n",
      "-||-  REPORTE DE COMBUSTIBLE  -||-\n",
      "---------------------------------------------\n",
      "PROMEDIO: 52.0% de la CAPACIDAD TOTAL\n",
      "---------------------------------------------\n",
      "Tanque PRINCIPAL: Tiene el 32% de su capacidad\n",
      "Tanque SECUNDARIO: Tiene el 46% de su capacidad\n",
      "Tanque EMERGENCIA: Tiene el 78% de su capacidad\n",
      "    \n"
     ]
    }
   ],
   "source": [
    "import random\n",
    "\n",
    "# Función de generación de reportes\n",
    "def reporte(principal, secundario, emergencia):\n",
    "    combustible_promedio = (principal + secundario + emergencia) / 3\n",
    "    return f\"\"\"-||-  REPORTE DE COMBUSTIBLE  -||-\n",
    "{'-'*45}\n",
    "PROMEDIO: {round(combustible_promedio,2)}% de la CAPACIDAD TOTAL\n",
    "{'-'*45}\n",
    "Tanque PRINCIPAL: Tiene el {principal}% de su capacidad\n",
    "Tanque SECUNDARIO: Tiene el {secundario}% de su capacidad\n",
    "Tanque EMERGENCIA: Tiene el {emergencia}% de su capacidad\n",
    "    \"\"\"\n",
    "print(reporte(random.randint(20,100), random.randint(20,100), random.randint(20,100)))\n",
    "\n",
    "print('\\n')\n",
    "\n",
    "# Función de cálculo de promedio\n",
    "def promedio(capacidades):\n",
    "    return sum(capacidades) / len(capacidades)\n",
    "\n",
    "# Función actualizada\n",
    "def reporte(principal, secundario, emergencia):\n",
    "    return f\"\"\"-||-  REPORTE DE COMBUSTIBLE  -||-\n",
    "{'-'*45}\n",
    "PROMEDIO: {round(promedio([principal, secundario, emergencia]),2)}% de la CAPACIDAD TOTAL\n",
    "{'-'*45}\n",
    "Tanque PRINCIPAL: Tiene el {principal}% de su capacidad\n",
    "Tanque SECUNDARIO: Tiene el {secundario}% de su capacidad\n",
    "Tanque EMERGENCIA: Tiene el {emergencia}% de su capacidad\n",
    "    \"\"\"\n",
    "\n",
    "print(reporte(random.randint(20,100), random.randint(20,100), random.randint(20,100)))"
   ]
  },
  {
   "cell_type": "markdown",
   "metadata": {},
   "source": [
    "### Ejercicio 2"
   ]
  },
  {
   "cell_type": "code",
   "execution_count": 21,
   "metadata": {},
   "outputs": [
    {
     "name": "stdout",
     "output_type": "stream",
     "text": [
      "\n",
      "    ¡¡¡¡Bienvenido!!!!\n",
      "    ------------------------------\n",
      "    Misión a: **SATURNO**\n",
      "    Tiempo de vuelo total: 42 hrs.\n",
      "    Combustible restante: 131 kls.\n",
      "    \n",
      "\n",
      "    ¡¡¡¡Bienvenido!!!!\n",
      "    ------------------------------\n",
      "    Misión a **MARTE**\n",
      "    Tiempo de vuelo total: 81 hrs.\n",
      "    Combustible restante: 194 kls.\n",
      "    \n",
      "\n",
      "     ¡¡¡¡Bienvenido!!!!\n",
      "    ------------------------------\n",
      "    Misión a **MARTE**\n",
      "    Tiempo de vuelo total: 198 hrs.\n",
      "    Combustible restante: 142 kls.\n",
      "    ------------------------------\n",
      "    TANQUE_INTERNO le restan 62 kls\n",
      "TANQUE_EXTERNO le restan 28 kls\n",
      "TANQUE_EMERGENCIA le restan 52 kls\n",
      "\n"
     ]
    }
   ],
   "source": [
    "import random\n",
    "# Función que considera tiempo_prelanzamiento, tiempo_vuelo, destino, tanque_externo y tanque_interno.\n",
    "# Se considera Kilolitros para denotar la cantidad de combustible en los tanques.\n",
    "\n",
    "def reporte(tiempo_prelanzamiento, tiempo_vuelo, destino, tanque_externo, tanque_interno):\n",
    "    return f\"\"\"\n",
    "    ¡¡¡¡Bienvenido!!!!\n",
    "    {'-'*30}\n",
    "    Misión a: **{destino.upper()}**\n",
    "    Tiempo de vuelo total: {tiempo_prelanzamiento + tiempo_vuelo} hrs.\n",
    "    Combustible restante: {tanque_externo + tanque_interno} kls.\n",
    "    \"\"\"\n",
    "\n",
    "print(reporte(random.randint(10,100), random.randint(10,100), \"Saturno\", random.randint(20,100), random.randint(20,100)))\n",
    "\n",
    "# Se agregan argumentos de variables para los minutos adicionales, y argumentos de palabras para reservas de combustible.\n",
    "# Permite realizar cálculos y acceso a datos de manera eficiente.\n",
    "def reporte(destino, *minutes, **fuel_reservoirs):\n",
    "    return f\"\"\"\n",
    "    ¡¡¡¡Bienvenido!!!!\n",
    "    {'-'*30}\n",
    "    Misión a **{destino.upper()}**\n",
    "    Tiempo de vuelo total: {sum(minutes)} hrs.\n",
    "    Combustible restante: {sum(fuel_reservoirs.values())} kls.\n",
    "    \"\"\"\n",
    "\n",
    "print(reporte(\"Marte\", random.randint(10,100), random.randint(10,100), random.randint(10,100), tanque_interno=random.randint(20,100), tanque_externo=random.randint(20,100), tanque_emergencia=random.randint(20,100)))\n",
    "\n",
    "# Para poder ver cada tanque, se realiza un for que recorre fuel_reservoirs\n",
    "def reporte(destino, *minutes, **fuel_reservoirs):\n",
    "    mensaje = f\"\"\"\n",
    "     ¡¡¡¡Bienvenido!!!!\n",
    "    {'-'*30}\n",
    "    Misión a **{destino.upper()}**\n",
    "    Tiempo de vuelo total: {sum(minutes)} hrs.\n",
    "    Combustible restante: {sum(fuel_reservoirs.values())} kls.\n",
    "    {'-'*30}\n",
    "    \"\"\"\n",
    "    for nom_tanque, cantidad in fuel_reservoirs.items():\n",
    "        m = f\"{nom_tanque.upper()} le restan {cantidad} kls\\n\"\n",
    "        mensaje += m\n",
    "    return mensaje\n",
    "\n",
    "print(reporte(\"Marte\", random.randint(10,100), random.randint(10,100), random.randint(10,100), tanque_interno=random.randint(20,100), tanque_externo=random.randint(20,100), tanque_emergencia=random.randint(20,100)))"
   ]
  }
 ],
 "metadata": {
  "interpreter": {
   "hash": "dab7bffe2625c57850054d6d3c5fd38e84206c2122359d88926c0862a68a63af"
  },
  "kernelspec": {
   "display_name": "Python 3.10.2 64-bit",
   "language": "python",
   "name": "python3"
  },
  "language_info": {
   "codemirror_mode": {
    "name": "ipython",
    "version": 3
   },
   "file_extension": ".py",
   "mimetype": "text/x-python",
   "name": "python",
   "nbconvert_exporter": "python",
   "pygments_lexer": "ipython3",
   "version": "3.10.2"
  },
  "orig_nbformat": 4
 },
 "nbformat": 4,
 "nbformat_minor": 2
}
