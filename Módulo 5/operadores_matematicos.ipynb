{
 "cells": [
  {
   "cell_type": "markdown",
   "metadata": {},
   "source": [
    "### Ejercicio 1"
   ]
  },
  {
   "cell_type": "code",
   "execution_count": 5,
   "metadata": {},
   "outputs": [
    {
     "name": "stdout",
     "output_type": "stream",
     "text": [
      "Distancia en kilometros: 628949330 km\n",
      "Distancia en millas: 390577533.93 mi\n"
     ]
    }
   ],
   "source": [
    "# Variables para guardar valores de las dos distancias.\n",
    "p_planeta = 149597870\n",
    "s_planeta = 778547200\n",
    "\n",
    "# Se realiza la resta y se imprime.\n",
    "distancia_km = s_planeta - p_planeta\n",
    "print('Distancia en kilometros:',distancia_km,'km')\n",
    "\n",
    "# Se convierte en millas y se imprime.\n",
    "distancia_mi = distancia_km * 0.621\n",
    "print('Distancia en millas:',distancia_mi,'mi')"
   ]
  },
  {
   "cell_type": "markdown",
   "metadata": {},
   "source": [
    "### Ejercicio 2"
   ]
  },
  {
   "cell_type": "code",
   "execution_count": 8,
   "metadata": {},
   "outputs": [
    {
     "name": "stdout",
     "output_type": "stream",
     "text": [
      "9 kilometros\n",
      "5.59 millas\n"
     ]
    }
   ],
   "source": [
    "# Se pide que ingrese los valores y se convierten a enteros.\n",
    "p_planeta = int(input('Introduzca la distancia del sol para el primer planeta en KM'))\n",
    "s_planeta = int(input('Introduzca la distancia desde el sol para el segundo planeta en KM'))\n",
    "\n",
    "# Se realiza la sustracción y se saca el valor absoluto.\n",
    "distancia_km = s_planeta - p_planeta\n",
    "print(abs(distancia_km),'kilometros')\n",
    "\n",
    "# Se realiza la conversión y se saca el valor absoluto.\n",
    "distancia_mi = distancia_km * 0.621\n",
    "print(round(abs(distancia_mi),2),'millas')"
   ]
  }
 ],
 "metadata": {
  "interpreter": {
   "hash": "dab7bffe2625c57850054d6d3c5fd38e84206c2122359d88926c0862a68a63af"
  },
  "kernelspec": {
   "display_name": "Python 3.10.2 64-bit",
   "language": "python",
   "name": "python3"
  },
  "language_info": {
   "codemirror_mode": {
    "name": "ipython",
    "version": 3
   },
   "file_extension": ".py",
   "mimetype": "text/x-python",
   "name": "python",
   "nbconvert_exporter": "python",
   "pygments_lexer": "ipython3",
   "version": "3.10.2"
  },
  "orig_nbformat": 4
 },
 "nbformat": 4,
 "nbformat_minor": 2
}
