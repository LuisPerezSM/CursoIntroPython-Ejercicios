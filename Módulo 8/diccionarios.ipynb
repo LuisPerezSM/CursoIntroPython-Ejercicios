{
 "cells": [
  {
   "cell_type": "markdown",
   "metadata": {},
   "source": [
    "### Ejercicio 1"
   ]
  },
  {
   "cell_type": "code",
   "execution_count": 11,
   "metadata": {},
   "outputs": [
    {
     "name": "stdout",
     "output_type": "stream",
     "text": [
      "El nombre del planeta es Mars, tiene 2 lunas\n",
      "El nombre del planeta es Mars, y su circunferencia polar es 6752 km\n"
     ]
    }
   ],
   "source": [
    "planet = {\n",
    "    'name' : 'Mars',\n",
    "    'moons' : 2\n",
    "}\n",
    "\n",
    "print(f'El nombre del planeta es {planet[\"name\"]}, tiene {planet[\"moons\"]} lunas')\n",
    "\n",
    "planet['circunference (km)']={\n",
    "    'polar' :   6752,\n",
    "    'equatorial' : 6791\n",
    "}\n",
    "\n",
    "print(f'El nombre del planeta es {planet[\"name\"]}, y su circunferencia polar es {planet[\"circunference (km)\"][\"polar\"]} km')"
   ]
  },
  {
   "cell_type": "markdown",
   "metadata": {},
   "source": [
    "### Ejercicio 2"
   ]
  },
  {
   "cell_type": "code",
   "execution_count": 17,
   "metadata": {},
   "outputs": [
    {
     "name": "stdout",
     "output_type": "stream",
     "text": [
      "Existen 12 planetas\n",
      "Lunas en total 214\n",
      "El promedio de lunas es 17.83\n"
     ]
    }
   ],
   "source": [
    "# Planetas y número de lunas correspondientes\n",
    "planet_moons = {\n",
    "    'mercury': 0,\n",
    "    'venus': 0,\n",
    "    'earth': 1,\n",
    "    'mars': 2,\n",
    "    'jupiter': 79,\n",
    "    'saturn': 82,\n",
    "    'uranus': 27,\n",
    "    'neptune': 14,\n",
    "    'pluto': 5,\n",
    "    'haumea': 2,\n",
    "    'makemake': 1,\n",
    "    'eris': 1\n",
    "}\n",
    "\n",
    "# Determinar el numero de lunas\n",
    "moons = planet_moons.values()\n",
    "\n",
    "# Número de planetas\n",
    "planets = len(planet_moons.keys())\n",
    "print('Existen',planets,'planetas')\n",
    "\n",
    "# Se inicializa la variable total_moons a 0. El ciclo recorre la lista moons y suma cada valor\n",
    "total_moons = 0\n",
    "for moon in moons:\n",
    "    total_moons = total_moons + moon\n",
    "\n",
    "print('Lunas en total',total_moons)\n",
    "\n",
    "# Promedio de lunas\n",
    "promedio = total_moons / planets\n",
    "\n",
    "# Muestra el promedio\n",
    "print('El promedio de lunas es',round(promedio,2))"
   ]
  }
 ],
 "metadata": {
  "interpreter": {
   "hash": "dab7bffe2625c57850054d6d3c5fd38e84206c2122359d88926c0862a68a63af"
  },
  "kernelspec": {
   "display_name": "Python 3.10.2 64-bit",
   "language": "python",
   "name": "python3"
  },
  "language_info": {
   "codemirror_mode": {
    "name": "ipython",
    "version": 3
   },
   "file_extension": ".py",
   "mimetype": "text/x-python",
   "name": "python",
   "nbconvert_exporter": "python",
   "pygments_lexer": "ipython3",
   "version": "3.10.2"
  },
  "orig_nbformat": 4
 },
 "nbformat": 4,
 "nbformat_minor": 2
}
