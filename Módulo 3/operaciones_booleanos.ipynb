{
 "cells": [
  {
   "cell_type": "markdown",
   "metadata": {},
   "source": [
    "## Ejercicios Lógica Booleana"
   ]
  },
  {
   "cell_type": "markdown",
   "metadata": {},
   "source": [
    "Problema 1"
   ]
  },
  {
   "cell_type": "code",
   "execution_count": 1,
   "metadata": {},
   "outputs": [
    {
     "name": "stdout",
     "output_type": "stream",
     "text": [
      "Velocidad del asteroide: 71 km/s\n",
      "¡¡¡¡¡¡¡¡Alerta!!!!!!!!!!! ¡Se acerca un asteroide de manera peligrosa!\n"
     ]
    }
   ],
   "source": [
    "# Se importa libreria para generar números aleatorios.\n",
    "import random\n",
    "# Se generan números aleatorios para probar que se cumpla la condición.\n",
    "vel_asteroide = random.randint(1,100)\n",
    "print('Velocidad del asteroide:',vel_asteroide,'km/s')\n",
    "\n",
    "if vel_asteroide > 25:\n",
    "    print('¡¡¡¡¡¡¡¡Alerta!!!!!!!!!!! ¡Se acerca un asteroide de manera peligrosa!')\n",
    "else:\n",
    "    print('No hay problema, asteroide no peligroso')"
   ]
  },
  {
   "cell_type": "markdown",
   "metadata": {},
   "source": [
    "Problema 2"
   ]
  },
  {
   "cell_type": "code",
   "execution_count": 2,
   "metadata": {},
   "outputs": [
    {
     "name": "stdout",
     "output_type": "stream",
     "text": [
      "Velocidad del asteroide: 24 km/s\n",
      "¡Se ve una luz en el cielo!\n"
     ]
    }
   ],
   "source": [
    "# Se importa libreria para generar números aleatorios.\n",
    "import random\n",
    "# Se generan números aleatorios para probar que se cumpla la condición.\n",
    "vel_asteroide = random.randint(1,100)\n",
    "print('Velocidad del asteroide:',vel_asteroide,'km/s')\n",
    "\n",
    "if vel_asteroide >= 20:\n",
    "    print('¡Se ve una luz en el cielo!')\n",
    "else:\n",
    "    print('Cielo normal')"
   ]
  },
  {
   "cell_type": "markdown",
   "metadata": {},
   "source": [
    "Problema 3"
   ]
  },
  {
   "cell_type": "code",
   "execution_count": 6,
   "metadata": {},
   "outputs": [
    {
     "name": "stdout",
     "output_type": "stream",
     "text": [
      "\n",
      "Velocidad del asteroide: 51 km/s\n",
      "Tamaño del asteroide: 100 mts.\n",
      "\n",
      "¡¡¡¡¡¡¡¡ALERTA, ALERTA!!!!!!!!!!! ¡Se acerca un GRAN ASTEROIDE a VELOCIDAD PELIGROSA!\n"
     ]
    }
   ],
   "source": [
    "# Se importa libreria para generar números aleatorios.\n",
    "import random\n",
    "# Se generan números aleatorios para probar que se cumpla la condición.\n",
    "vel_asteroide = random.randint(1,100)\n",
    "tam_asteroide = random.randint(1,1200)\n",
    "\n",
    "monitor = f\"\"\"\n",
    "Velocidad del asteroide: {vel_asteroide} km/s\n",
    "Tamaño del asteroide: {tam_asteroide} mts.\n",
    "\"\"\"\n",
    "print(monitor)\n",
    "\n",
    "# Se hacen las verificaciones con if elif else.\n",
    "if vel_asteroide > 25 and tam_asteroide > 1000:\n",
    "    print('¡¡¡¡¡¡¡¡PELIGRO INMINENTE!!!!!!!!!!! ¡Un asteroide destruira el planeta!')\n",
    "elif vel_asteroide > 25 and tam_asteroide > 25:\n",
    "    print('¡¡¡¡¡¡¡¡ALERTA, ALERTA!!!!!!!!!!! ¡Se acerca un GRAN ASTEROIDE a VELOCIDAD PELIGROSA!')\n",
    "elif vel_asteroide <= 25 and tam_asteroide > 25:\n",
    "    print('¡¡¡ADVERTENCIA!!! ¡Se acerca un asteroide MUY GRANDE!')\n",
    "elif vel_asteroide > 25 and tam_asteroide <= 25:\n",
    "    print('¡¡¡ADVERTENCIA!!! ¡Se acerca un asteroide a GRAN VELOCIDAD!')\n",
    "elif 25 >= vel_asteroide >= 20 and tam_asteroide <= 25:\n",
    "    print('Se ve una luz en el cielo')\n",
    "elif vel_asteroide < 20 and tam_asteroide < 25:\n",
    "    print('Todo bien, buen día')\n",
    "else:\n",
    "    print('Todo bien, buen día')"
   ]
  }
 ],
 "metadata": {
  "interpreter": {
   "hash": "dab7bffe2625c57850054d6d3c5fd38e84206c2122359d88926c0862a68a63af"
  },
  "kernelspec": {
   "display_name": "Python 3.10.2 64-bit",
   "language": "python",
   "name": "python3"
  },
  "language_info": {
   "codemirror_mode": {
    "name": "ipython",
    "version": 3
   },
   "file_extension": ".py",
   "mimetype": "text/x-python",
   "name": "python",
   "nbconvert_exporter": "python",
   "pygments_lexer": "ipython3",
   "version": "3.10.2"
  },
  "orig_nbformat": 4
 },
 "nbformat": 4,
 "nbformat_minor": 2
}
