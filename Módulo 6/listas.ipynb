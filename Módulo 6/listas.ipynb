{
 "cells": [
  {
   "cell_type": "markdown",
   "metadata": {},
   "source": [
    "### Ejercicio 1"
   ]
  },
  {
   "cell_type": "code",
   "execution_count": 14,
   "metadata": {},
   "outputs": [
    {
     "name": "stdout",
     "output_type": "stream",
     "text": [
      "Hay 8 planetas\n",
      "Ahora hay 9 planetas. Plutón es el último agregado\n",
      "\n",
      "Los planetas son:\n",
      "Mercurio\n",
      "Venus\n",
      "Tierra\n",
      "Marte\n",
      "Jupiter\n",
      "Saturno\n",
      "Urano\n",
      "Neptuno\n",
      "Plutón\n"
     ]
    }
   ],
   "source": [
    "# Se crea la lista de los planetas y se mostramos cuantos hay.\n",
    "planetas = ['Mercurio', 'Venus', 'Tierra', 'Marte', 'Jupiter', 'Saturno', 'Urano', 'Neptuno']\n",
    "print('Hay', len(planetas), 'planetas')\n",
    "\n",
    "# Se agrega Plutón como el último elemento.\n",
    "planetas.append('Plutón')\n",
    "\n",
    "# Se imprime cuantos planetas hay y cual es el último.\n",
    "print('Ahora hay', len(planetas), 'planetas.', planetas[-1], 'es el último agregado\\n')\n",
    "\n",
    "# Se imprimen la lista.\n",
    "print('Los planetas son:')\n",
    "for planeta in planetas:\n",
    "    print(planeta)"
   ]
  },
  {
   "cell_type": "markdown",
   "metadata": {},
   "source": [
    "### Ejercicio 2"
   ]
  },
  {
   "cell_type": "code",
   "execution_count": 26,
   "metadata": {},
   "outputs": [
    {
     "name": "stdout",
     "output_type": "stream",
     "text": [
      "Planetas mas cerca que Earth\n",
      "['Mercury', 'Venus']\n",
      "Planetas mas lejos que Earth\n",
      "['Mars', 'Jupiter', 'Saturn', 'Neptune']\n"
     ]
    }
   ],
   "source": [
    "# Lista de planetas.\n",
    "planets = ['Mercury', 'Venus', 'Earth', 'Mars', 'Jupiter', 'Saturn', 'Neptune']\n",
    "\n",
    "# Se pide que ingrese un planeta para buscar.\n",
    "entrada = input('Escribe el nombre del planeta con mayúscula al principio')\n",
    "existe = entrada\n",
    "\n",
    "#Si existe la entrada en la lsita, hace las operaciones, sino, manda mensaje de ingresar correctamente.\n",
    "if existe in planets:\n",
    "# Se declara una variable para guardar la posicion de la entrada.\n",
    "    busqueda = planets.index(entrada)\n",
    "\n",
    "# Se imprime las valores de posiciones menores a la busqueda.\n",
    "    print('Planetas mas cerca que ' + entrada)\n",
    "    #Python entiende que [:index] que se trata de la primera posicion de la lista.\n",
    "    print(planets[:busqueda])\n",
    "\n",
    "# Se imprime las valores de posciones mayores a la busqueda.\n",
    "    print('Planetas mas lejos que ' + entrada)\n",
    "    #Python entiende que [index:] que se trata hasta la última posicion de la lista.\n",
    "    #Se agrega +1 para que no imprima desde index, sino uno después.\n",
    "    print(planets[busqueda+1:])\n",
    "else:\n",
    "    print('Ingrese un planeta correctamente')"
   ]
  }
 ],
 "metadata": {
  "interpreter": {
   "hash": "dab7bffe2625c57850054d6d3c5fd38e84206c2122359d88926c0862a68a63af"
  },
  "kernelspec": {
   "display_name": "Python 3.10.2 64-bit",
   "language": "python",
   "name": "python3"
  },
  "language_info": {
   "codemirror_mode": {
    "name": "ipython",
    "version": 3
   },
   "file_extension": ".py",
   "mimetype": "text/x-python",
   "name": "python",
   "nbconvert_exporter": "python",
   "pygments_lexer": "ipython3",
   "version": "3.10.2"
  },
  "orig_nbformat": 4
 },
 "nbformat": 4,
 "nbformat_minor": 2
}
