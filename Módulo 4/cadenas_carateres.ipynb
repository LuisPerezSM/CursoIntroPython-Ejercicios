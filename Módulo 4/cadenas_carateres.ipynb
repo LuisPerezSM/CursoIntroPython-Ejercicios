{
 "cells": [
  {
   "cell_type": "code",
   "execution_count": 18,
   "metadata": {},
   "outputs": [
    {
     "name": "stdout",
     "output_type": "stream",
     "text": [
      " On average, the Moon moves 4cm away from the Earth every year\n",
      " The highest daylight temperature of the Moon is 127 C\n",
      "\n",
      "\n",
      " On average, the Moon moves 4cm away from the Earth every year\n",
      " The highest daylight temperature of the Moon is 127 Celsius\n"
     ]
    }
   ],
   "source": [
    "# Dividir texto.\n",
    "text = \"\"\"Interesting facts about the Moon. The Moon is Earth's only satellite. There are several interesting facts about the Moon and how it affects life here on Earth. On average, the Moon moves 4cm away from the Earth every year. This yearly drift is not significant enough to cause immediate effects on Earth. The highest daylight temperature of the Moon is 127 C.\"\"\"\n",
    "oraciones = text.split(\".\")\n",
    "oraciones\n",
    "\n",
    "# Hechos clave para buscar dentro del array.\n",
    "claves = [\"average\", \"temperature\", \"distance\"]\n",
    "\n",
    "# Ciclo for para recorrer el array. \n",
    "for oracion in oraciones:\n",
    "    for hecho in claves:\n",
    "        if hecho in oracion:\n",
    "            print(oracion)\n",
    "            break\n",
    "\n",
    "# \"in\" verifica si el valor se encuentra dentro del array y devuelve true o false.\n",
    "print(\"\\n\")\n",
    "\n",
    "# Cambiar un caracter o palabra por otra. Lo mismo que arriba, solo que al encontrar el caracter C, lo cambia con la funcion replace.\n",
    "for oracion in oraciones:\n",
    "    for hecho in claves:\n",
    "        if hecho in oracion:\n",
    "            print(oracion.replace('C','Celsius'))\n",
    "            break\n",
    "\n"
   ]
  },
  {
   "cell_type": "code",
   "execution_count": 11,
   "metadata": {},
   "outputs": [
    {
     "name": "stdout",
     "output_type": "stream",
     "text": [
      "Datos De Gravedad Sobre: Moon \n",
      "------------------------------------------------ \n",
      "Nombre del planeta: Earth \n",
      "Gravedad en Moon: 1.62 m/s2 \n",
      " \n",
      "\n",
      "Nuevos datos:\n",
      " Datos De Gravedad Sobre: Moon \n",
      "------------------------------------------------ \n",
      "Nombre del planeta: Earth \n",
      "Gravedad en Moon: 1.62 m/s2 \n",
      " \n",
      "\n",
      "\n",
      "Datos de Gravedad sobre: Ganímedes\n",
      "-------------------------------------------------------------------------------\n",
      "Nombre del planeta: Marte\n",
      "Gravedad en Ganímedes: 1.43 m/s2\n",
      "\n"
     ]
    }
   ],
   "source": [
    "# Datos.\n",
    "nombre = \"Moon\"\n",
    "gravedad = 0.00162 \n",
    "planeta = \"Earth\"\n",
    "\n",
    "# Se realiza el titulo y cuerpo de la plantilla.\n",
    "titulo = f'Datos de gravedad sobre: {nombre}'\n",
    "cuerpo = f\"\"\"{'------------------------------------------------'} \n",
    "Nombre del planeta: {planeta} \n",
    "Gravedad en {nombre}: {round(gravedad * 1000,2)} m/s2 \n",
    "\"\"\"\n",
    "# Se hace la plantilla.\n",
    "plantilla = f\"\"\"{titulo.title()} \n",
    "{cuerpo} \n",
    "\"\"\" \n",
    "# se imprime.\n",
    "print(plantilla)\n",
    "\n",
    "# Nuevos datos.\n",
    "planeta = 'Marte'\n",
    "gravedad  = 0.00143\n",
    "nombre = 'Ganímedes'\n",
    "\n",
    "# Se imprime, pero se observan que son los mismos datos, no cambian.\n",
    "print('Nuevos datos:\\n',plantilla)\n",
    "\n",
    "# Nueva plantilla.\n",
    "plantilla_nueva = \"\"\"\n",
    "Datos de Gravedad sobre: {nombre}\n",
    "-------------------------------------------------------------------------------\n",
    "Nombre del planeta: {planeta}\n",
    "Gravedad en {nombre}: {gravedad} m/s2\n",
    "\"\"\"\n",
    "\n",
    "# Se imprime con valores reasignados.\n",
    "print(plantilla_nueva.format(nombre=nombre, planeta=planeta, gravedad=round(gravedad*1000,2)))"
   ]
  }
 ],
 "metadata": {
  "interpreter": {
   "hash": "dab7bffe2625c57850054d6d3c5fd38e84206c2122359d88926c0862a68a63af"
  },
  "kernelspec": {
   "display_name": "Python 3.10.2 64-bit",
   "language": "python",
   "name": "python3"
  },
  "language_info": {
   "codemirror_mode": {
    "name": "ipython",
    "version": 3
   },
   "file_extension": ".py",
   "mimetype": "text/x-python",
   "name": "python",
   "nbconvert_exporter": "python",
   "pygments_lexer": "ipython3",
   "version": "3.10.2"
  },
  "orig_nbformat": 4
 },
 "nbformat": 4,
 "nbformat_minor": 2
}
